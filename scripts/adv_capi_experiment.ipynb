{
 "cells": [
  {
   "cell_type": "code",
   "execution_count": 2,
   "id": "99d87c1a",
   "metadata": {},
   "outputs": [
    {
     "name": "stdout",
     "output_type": "stream",
     "text": [
      "Cloning into 'capi'...\n",
      "remote: Enumerating objects: 48, done.\u001b[K\n",
      "remote: Counting objects: 100% (48/48), done.\u001b[K\n",
      "remote: Compressing objects: 100% (25/25), done.\u001b[K\n",
      "remote: Total 48 (delta 23), reused 45 (delta 20), pack-reused 0\u001b[K\n",
      "Unpacking objects: 100% (48/48), done.\n"
     ]
    }
   ],
   "source": [
    "!git clone https://github.com/tcfuji/capi.git"
   ]
  },
  {
   "cell_type": "code",
   "execution_count": 2,
   "id": "81fc6a33",
   "metadata": {},
   "outputs": [
    {
     "name": "stdout",
     "output_type": "stream",
     "text": [
      "/home/ec2-user/SageMaker/capi\n"
     ]
    }
   ],
   "source": [
    "cd capi"
   ]
  },
  {
   "cell_type": "code",
   "execution_count": 3,
   "id": "202a02bc",
   "metadata": {},
   "outputs": [
    {
     "name": "stdout",
     "output_type": "stream",
     "text": [
      "import argparse\n",
      "import os\n",
      "\n",
      "import numpy as np\n",
      "import torch\n",
      "from torch.optim import Adam\n",
      "\n",
      "# from capi.agents import Agent\n",
      "from capi.adv_agents import AdvAgent\n",
      "from capi.games import Game\n",
      "from capi.models import NN\n",
      "from capi.trainers import Trainer\n",
      "\n",
      "\"\"\"\n",
      "Seeds:\n",
      "837\n",
      "450\n",
      "330\n",
      "512\n",
      "869\n",
      "431\n",
      "891\n",
      "473\n",
      "624\n",
      "695\n",
      "\"\"\"\n",
      "\n",
      "seed = 869\n",
      "\n",
      "\n",
      "if __name__ == \"__main__\":\n",
      "    parser = argparse.ArgumentParser()\n",
      "    parser.add_argument(\"--num_items\", type=int, default=12)\n",
      "    parser.add_argument(\"--num_utterances\", type=int, default=12)\n",
      "    parser.add_argument(\"--hidden_size\", type=int, default=128)\n",
      "    parser.add_argument(\"--lr\", type=float, default=1e-4)\n",
      "    parser.add_argument(\"--num_samples\", type=int, default=10_000)\n",
      "    parser.add_argument(\"--epsilon\", type=float, default=1 / 10)\n",
      "    parser.add_argument(\"--policy_weight\", type=float, default=1 / 100)\n",
      "    parser.add_argument(\"--num_episodes\", type=int, default=500)\n",
      "    parser.add_argument(\"--write_every\", type=int, default=10)\n",
      "    parser.add_argument(\"--directory\", type=str, default=\"results\")\n",
      "    parser.add_argument(\"--jobnum\", type=int, default=0)\n",
      "    parser.add_argument(\"--strict_type_check\", type=bool, default=False)\n",
      "    parser.add_argument(\"--adversarial\", type=bool, default=True)\n",
      "    parser.add_argument(\"--adv_epsilon\", type=float, default=0.3)\n",
      "    \n",
      "    args = parser.parse_args()\n",
      "    if args.strict_type_check:\n",
      "        os.environ[\"strict_type_check\"] = \"1\"\n",
      "    else:\n",
      "        os.environ[\"strict_type_check\"] = \"0\"\n",
      "    input_size = 2 * args.num_items + 2 * args.num_utterances\n",
      "    nn = NN(input_size, args.hidden_size, args.num_items, args.num_utterances)\n",
      "    opt = Adam(nn.parameters(), lr=args.lr)\n",
      "    g = Game(args.num_items, args.num_utterances)\n",
      "    device = torch.device(\"cuda:0\" if torch.cuda.is_available() else \"cpu\")\n",
      "    agent = AdvAgent(\n",
      "        args.num_items,\n",
      "        args.num_utterances,\n",
      "        nn,\n",
      "        opt,\n",
      "        args.num_samples,\n",
      "        args.epsilon,\n",
      "        args.policy_weight,\n",
      "        device,\n",
      "        args.adversarial,\n",
      "        args.adv_epsilon\n",
      "    )\n",
      "    torch.manual_seed(seed)\n",
      "    trainer = Trainer(g, agent, 'adversarial', args.directory)\n",
      "    trainer.run(args.num_episodes, args.write_every, seed)\n"
     ]
    }
   ],
   "source": [
    "cat scripts/interface_adv.py"
   ]
  },
  {
   "cell_type": "code",
   "execution_count": null,
   "id": "a73a1c39",
   "metadata": {},
   "outputs": [
    {
     "name": "stderr",
     "output_type": "stream",
     "text": [
      "  8%|▊         | 165/2000 [10:06<2:14:13,  4.39s/it] "
     ]
    }
   ],
   "source": [
    "import os\n",
    "\n",
    "import numpy as np\n",
    "import torch\n",
    "from torch.optim import Adam\n",
    "\n",
    "from capi.adv_agents import AdvAgent\n",
    "from capi.games import Game\n",
    "from capi.models import NN\n",
    "from capi.trainers import Trainer\n",
    "\n",
    "\"\"\"\n",
    "Seeds:\n",
    "837\n",
    "450\n",
    "330\n",
    "512\n",
    "869\n",
    "431\n",
    "891\n",
    "473\n",
    "624\n",
    "695\n",
    "\"\"\"\n",
    "\n",
    "seed = 869\n",
    "\n",
    "\n",
    "num_items = 5\n",
    "num_utterances = 5\n",
    "hidden_size = 256\n",
    "lr = 1e-4\n",
    "num_samples = 10_000\n",
    "epsilon = 1 / 10\n",
    "policy_weight = 1 / 10\n",
    "num_episodes = 2000\n",
    "write_every = 100 \n",
    "directory = \"results\"\n",
    "jobnum = 0\n",
    "\n",
    "os.environ[\"strict_type_check\"] = \"0\"\n",
    "input_size = 2 * num_items + 2 * num_utterances\n",
    "nn = NN(input_size, hidden_size, num_items, num_utterances)\n",
    "opt = Adam(nn.parameters(), lr=lr)\n",
    "g = Game(num_items, num_utterances)\n",
    "device = torch.device(\"cuda:0\" if torch.cuda.is_available() else \"cpu\")\n",
    "agent = AdvAgent(\n",
    "    num_items,\n",
    "    num_utterances,\n",
    "    nn,\n",
    "    opt,\n",
    "    num_samples,\n",
    "    epsilon,\n",
    "    policy_weight,\n",
    "    device\n",
    ")\n",
    "torch.manual_seed(seed)\n",
    "trainer = Trainer(g, agent, 'base', directory)\n",
    "trainer.run(num_episodes, write_every, seed)"
   ]
  },
  {
   "cell_type": "code",
   "execution_count": 4,
   "id": "5612e1a4",
   "metadata": {},
   "outputs": [
    {
     "data": {
      "text/plain": [
       "False"
      ]
     },
     "execution_count": 4,
     "metadata": {},
     "output_type": "execute_result"
    }
   ],
   "source": [
    "import torch\n",
    "torch.cuda.is_available()"
   ]
  },
  {
   "cell_type": "code",
   "execution_count": null,
   "id": "9119b37a",
   "metadata": {},
   "outputs": [],
   "source": []
  }
 ],
 "metadata": {
  "kernelspec": {
   "display_name": "conda_pytorch_p36",
   "language": "python",
   "name": "conda_pytorch_p36"
  },
  "language_info": {
   "codemirror_mode": {
    "name": "ipython",
    "version": 3
   },
   "file_extension": ".py",
   "mimetype": "text/x-python",
   "name": "python",
   "nbconvert_exporter": "python",
   "pygments_lexer": "ipython3",
   "version": "3.6.13"
  }
 },
 "nbformat": 4,
 "nbformat_minor": 5
}
